{
 "cells": [
  {
   "cell_type": "markdown",
   "id": "a98fd1e7",
   "metadata": {},
   "source": [
    "# <div style=\"color:white;display:fill;border-radius:5px;background-color:#0E2031;letter-spacing:0.5px;overflow:hidden\"><p style=\"padding:20px;color:white;overflow:hidden;text-align: center;margin:0;font-size:120%\">Data Preparation</p></div> "
   ]
  },
  {
   "cell_type": "markdown",
   "id": "38a99265",
   "metadata": {},
   "source": [
    "- **Data Preparation**\n",
    "    - Libraries\n",
    "    - Loading Data\n",
    "    - Encoding\n",
    "    - Feature Selection\n",
    "    - Normalization\n",
    "    - Standardzation\n",
    "    - Boruta"
   ]
  },
  {
   "cell_type": "markdown",
   "id": "6a00e271",
   "metadata": {},
   "source": [
    "## <div style=\"color:white;display:fill;border-radius:5px;background-color:#2E6B8E;letter-spacing:0.5px;overflow:hidden\"><p style=\"padding:15px;color:white;overflow:hidden;text-align: center;margin:0;font-size:120%\">Libraries</p></div>"
   ]
  },
  {
   "cell_type": "code",
   "execution_count": 1,
   "id": "bd062ff0",
   "metadata": {},
   "outputs": [],
   "source": [
    "# Basic Tools\n",
    "import pandas as pd\n",
    "import numpy as np\n",
    "\n",
    "\n",
    "\n",
    "from sklearn.model_selection import train_test_split\n",
    "from sklearn.model_selection import cross_val_score, cross_val_predict, KFold, cross_validate\n",
    "\n",
    "\n",
    "\n",
    "from boruta                import BorutaPy"
   ]
  },
  {
   "cell_type": "markdown",
   "id": "48086bd4",
   "metadata": {},
   "source": [
    "## <div style=\"color:white;display:fill;border-radius:5px;background-color:#2E6B8E;letter-spacing:0.5px;overflow:hidden\"><p style=\"padding:15px;color:white;overflow:hidden;text-align: center;margin:0;font-size:120%\">Loading Data</p></div>"
   ]
  },
  {
   "cell_type": "code",
   "execution_count": 2,
   "id": "64a0ee8b",
   "metadata": {},
   "outputs": [],
   "source": [
    "data = pd.read_csv('../data/processed/data_processed.csv')"
   ]
  },
  {
   "cell_type": "code",
   "execution_count": 3,
   "id": "a8d95e51",
   "metadata": {},
   "outputs": [
    {
     "data": {
      "text/plain": [
       "(5880, 28)"
      ]
     },
     "execution_count": 3,
     "metadata": {},
     "output_type": "execute_result"
    }
   ],
   "source": [
    "data_prep = data.copy()\n",
    "data_prep.shape"
   ]
  },
  {
   "cell_type": "code",
   "execution_count": 4,
   "id": "391b0de9",
   "metadata": {},
   "outputs": [
    {
     "data": {
      "text/plain": [
       "5876"
      ]
     },
     "execution_count": 4,
     "metadata": {},
     "output_type": "execute_result"
    }
   ],
   "source": [
    "data_prep.isna().sum().sum()"
   ]
  },
  {
   "cell_type": "markdown",
   "id": "5cdad2c2",
   "metadata": {},
   "source": [
    "## <div style=\"color:white;display:fill;border-radius:5px;background-color:#2E6B8E;letter-spacing:0.5px;overflow:hidden\"><p style=\"padding:15px;color:white;overflow:hidden;text-align: center;margin:0;font-size:120%\">Encoding</p></div>"
   ]
  },
  {
   "cell_type": "code",
   "execution_count": 5,
   "id": "9537d5a4",
   "metadata": {},
   "outputs": [
    {
     "data": {
      "text/plain": [
       "Padrão               5720\n",
       "Cobertura              97\n",
       "Loft                   41\n",
       "Duplex ou triplex      14\n",
       "Kitnet                  8\n",
       "Name: re_types, dtype: int64"
      ]
     },
     "execution_count": 5,
     "metadata": {},
     "output_type": "execute_result"
    }
   ],
   "source": [
    "data_prep['re_types'].value_counts()"
   ]
  },
  {
   "cell_type": "code",
   "execution_count": 6,
   "id": "88a95a05",
   "metadata": {},
   "outputs": [],
   "source": [
    "re_types_dict = {'Padrão': 1,  'Loft': 2, 'Cobertura': 3, 'Duplex ou triplex':4, 'Kitnet': 5}\n",
    "data_prep['re_types'] = data_prep['re_types'].map(re_types_dict)\n"
   ]
  },
  {
   "cell_type": "markdown",
   "id": "6ae5aed9",
   "metadata": {},
   "source": [
    "## <div style=\"color:white;display:fill;border-radius:5px;background-color:#2E6B8E;letter-spacing:0.5px;overflow:hidden\"><p style=\"padding:15px;color:white;overflow:hidden;text-align: center;margin:0;font-size:120%\">Feature Selection</p></div>"
   ]
  },
  {
   "cell_type": "code",
   "execution_count": 7,
   "id": "c31b16dc",
   "metadata": {},
   "outputs": [
    {
     "data": {
      "text/plain": [
       "Index(['bathrooms', 'condominio', 'garage_spaces', 'price', 'rooms', 'size',\n",
       "       'zipcode', 're_types', 're_rent_full_price', 'condominio_fechado',\n",
       "       'elevador', 'permitido_animais', 'piscina', 'portaria',\n",
       "       'portao_eletronico', 'salao_de_festas', 'seguranca24_h', 'academia',\n",
       "       'area_murada.1', 'ar_condicionado', 'armarios_na_cozinha',\n",
       "       'armarios_no_quarto', 'churrasqueira', 'mobiliado', 'quarto_de_servico',\n",
       "       'varanda', 'area_de_servico', 'size_comodo'],\n",
       "      dtype='object')"
      ]
     },
     "execution_count": 7,
     "metadata": {},
     "output_type": "execute_result"
    }
   ],
   "source": [
    "data_prep.columns"
   ]
  },
  {
   "cell_type": "code",
   "execution_count": 8,
   "id": "10854f57",
   "metadata": {},
   "outputs": [],
   "source": [
    "# SELECTED_FEATURES = ['bathrooms', \n",
    "#                      'condominio',\n",
    "#                      'garage_spaces',\n",
    "#                      'rooms',\n",
    "#                      'size',\n",
    "#                      'zipcode', \n",
    "#                      #'size_comodo',\n",
    "#                      #'re_types',\n",
    "#                      'condominio_fechado', \n",
    "#                      'elevador',\n",
    "#                      'permitido_animais',\n",
    "#                      'piscina', \n",
    "#                      'portaria',\n",
    "#                      'salao_de_festas',\n",
    "#                      'seguranca24_h',\n",
    "#                      'academia',\n",
    "#                      'ar_condicionado', \n",
    "#                      'armarios_na_cozinha',\n",
    "#                      'armarios_no_quarto',\n",
    "#                      'churrasqueira', \n",
    "#                      'mobiliado', \n",
    "#                      'quarto_de_servico',\n",
    "#                      'varanda', \n",
    "#                      'area_de_servico']\n",
    "\n",
    "\n",
    "# SELECTED_FEATURES = ['bathrooms', 'condominio', 'garage_spaces', 'size', 'zipcode','elevador']\n",
    "\n",
    "\n",
    "\n",
    "SELECTED_FEATURES = ['bathrooms', 'condominio', 'garage_spaces', 'rooms','size', 'zipcode','condominio_fechado', 'elevador',\n",
    "                     'piscina','portaria','salao_de_festas','academia','area_de_servico']\n",
    "\n",
    "\n",
    "\n",
    "\n",
    "TARGET = 'price'\n",
    "\n",
    "DROP_FEATURES = [value for value in data if value != 'price' and value not in data[SELECTED_FEATURES]]"
   ]
  },
  {
   "cell_type": "code",
   "execution_count": 9,
   "id": "63fbafe0",
   "metadata": {},
   "outputs": [
    {
     "data": {
      "text/html": [
       "<div>\n",
       "<style scoped>\n",
       "    .dataframe tbody tr th:only-of-type {\n",
       "        vertical-align: middle;\n",
       "    }\n",
       "\n",
       "    .dataframe tbody tr th {\n",
       "        vertical-align: top;\n",
       "    }\n",
       "\n",
       "    .dataframe thead th {\n",
       "        text-align: right;\n",
       "    }\n",
       "</style>\n",
       "<table border=\"1\" class=\"dataframe\">\n",
       "  <thead>\n",
       "    <tr style=\"text-align: right;\">\n",
       "      <th></th>\n",
       "      <th>bathrooms</th>\n",
       "      <th>condominio</th>\n",
       "      <th>garage_spaces</th>\n",
       "      <th>rooms</th>\n",
       "      <th>size</th>\n",
       "      <th>zipcode</th>\n",
       "      <th>condominio_fechado</th>\n",
       "      <th>elevador</th>\n",
       "      <th>piscina</th>\n",
       "      <th>portaria</th>\n",
       "      <th>salao_de_festas</th>\n",
       "      <th>academia</th>\n",
       "      <th>area_de_servico</th>\n",
       "    </tr>\n",
       "  </thead>\n",
       "  <tbody>\n",
       "    <tr>\n",
       "      <th>0</th>\n",
       "      <td>1</td>\n",
       "      <td>270</td>\n",
       "      <td>1</td>\n",
       "      <td>2</td>\n",
       "      <td>58</td>\n",
       "      <td>41150115</td>\n",
       "      <td>0</td>\n",
       "      <td>0</td>\n",
       "      <td>0</td>\n",
       "      <td>0</td>\n",
       "      <td>0</td>\n",
       "      <td>0</td>\n",
       "      <td>0</td>\n",
       "    </tr>\n",
       "    <tr>\n",
       "      <th>1</th>\n",
       "      <td>4</td>\n",
       "      <td>1080</td>\n",
       "      <td>2</td>\n",
       "      <td>3</td>\n",
       "      <td>105</td>\n",
       "      <td>40296320</td>\n",
       "      <td>0</td>\n",
       "      <td>0</td>\n",
       "      <td>1</td>\n",
       "      <td>0</td>\n",
       "      <td>1</td>\n",
       "      <td>1</td>\n",
       "      <td>0</td>\n",
       "    </tr>\n",
       "    <tr>\n",
       "      <th>2</th>\n",
       "      <td>3</td>\n",
       "      <td>800</td>\n",
       "      <td>1</td>\n",
       "      <td>3</td>\n",
       "      <td>120</td>\n",
       "      <td>41940340</td>\n",
       "      <td>1</td>\n",
       "      <td>1</td>\n",
       "      <td>0</td>\n",
       "      <td>1</td>\n",
       "      <td>1</td>\n",
       "      <td>1</td>\n",
       "      <td>1</td>\n",
       "    </tr>\n",
       "    <tr>\n",
       "      <th>3</th>\n",
       "      <td>2</td>\n",
       "      <td>858</td>\n",
       "      <td>1</td>\n",
       "      <td>2</td>\n",
       "      <td>64</td>\n",
       "      <td>41750000</td>\n",
       "      <td>1</td>\n",
       "      <td>0</td>\n",
       "      <td>1</td>\n",
       "      <td>0</td>\n",
       "      <td>0</td>\n",
       "      <td>0</td>\n",
       "      <td>0</td>\n",
       "    </tr>\n",
       "    <tr>\n",
       "      <th>4</th>\n",
       "      <td>3</td>\n",
       "      <td>797</td>\n",
       "      <td>1</td>\n",
       "      <td>3</td>\n",
       "      <td>110</td>\n",
       "      <td>41720060</td>\n",
       "      <td>1</td>\n",
       "      <td>1</td>\n",
       "      <td>1</td>\n",
       "      <td>1</td>\n",
       "      <td>1</td>\n",
       "      <td>1</td>\n",
       "      <td>0</td>\n",
       "    </tr>\n",
       "    <tr>\n",
       "      <th>...</th>\n",
       "      <td>...</td>\n",
       "      <td>...</td>\n",
       "      <td>...</td>\n",
       "      <td>...</td>\n",
       "      <td>...</td>\n",
       "      <td>...</td>\n",
       "      <td>...</td>\n",
       "      <td>...</td>\n",
       "      <td>...</td>\n",
       "      <td>...</td>\n",
       "      <td>...</td>\n",
       "      <td>...</td>\n",
       "      <td>...</td>\n",
       "    </tr>\n",
       "    <tr>\n",
       "      <th>5875</th>\n",
       "      <td>2</td>\n",
       "      <td>545</td>\n",
       "      <td>2</td>\n",
       "      <td>2</td>\n",
       "      <td>52</td>\n",
       "      <td>41601075</td>\n",
       "      <td>1</td>\n",
       "      <td>0</td>\n",
       "      <td>1</td>\n",
       "      <td>1</td>\n",
       "      <td>1</td>\n",
       "      <td>1</td>\n",
       "      <td>0</td>\n",
       "    </tr>\n",
       "    <tr>\n",
       "      <th>5876</th>\n",
       "      <td>1</td>\n",
       "      <td>633</td>\n",
       "      <td>1</td>\n",
       "      <td>1</td>\n",
       "      <td>41</td>\n",
       "      <td>40140090</td>\n",
       "      <td>1</td>\n",
       "      <td>1</td>\n",
       "      <td>1</td>\n",
       "      <td>1</td>\n",
       "      <td>1</td>\n",
       "      <td>1</td>\n",
       "      <td>1</td>\n",
       "    </tr>\n",
       "    <tr>\n",
       "      <th>5877</th>\n",
       "      <td>3</td>\n",
       "      <td>900</td>\n",
       "      <td>2</td>\n",
       "      <td>3</td>\n",
       "      <td>102</td>\n",
       "      <td>40155810</td>\n",
       "      <td>0</td>\n",
       "      <td>1</td>\n",
       "      <td>1</td>\n",
       "      <td>1</td>\n",
       "      <td>1</td>\n",
       "      <td>1</td>\n",
       "      <td>0</td>\n",
       "    </tr>\n",
       "    <tr>\n",
       "      <th>5878</th>\n",
       "      <td>3</td>\n",
       "      <td>990</td>\n",
       "      <td>1</td>\n",
       "      <td>2</td>\n",
       "      <td>136</td>\n",
       "      <td>41760035</td>\n",
       "      <td>0</td>\n",
       "      <td>1</td>\n",
       "      <td>0</td>\n",
       "      <td>0</td>\n",
       "      <td>1</td>\n",
       "      <td>0</td>\n",
       "      <td>0</td>\n",
       "    </tr>\n",
       "    <tr>\n",
       "      <th>5879</th>\n",
       "      <td>2</td>\n",
       "      <td>270</td>\n",
       "      <td>1</td>\n",
       "      <td>2</td>\n",
       "      <td>52</td>\n",
       "      <td>41100260</td>\n",
       "      <td>1</td>\n",
       "      <td>1</td>\n",
       "      <td>1</td>\n",
       "      <td>0</td>\n",
       "      <td>1</td>\n",
       "      <td>1</td>\n",
       "      <td>0</td>\n",
       "    </tr>\n",
       "  </tbody>\n",
       "</table>\n",
       "<p>5880 rows × 13 columns</p>\n",
       "</div>"
      ],
      "text/plain": [
       "      bathrooms  condominio  garage_spaces  rooms  size   zipcode  \\\n",
       "0             1         270              1      2    58  41150115   \n",
       "1             4        1080              2      3   105  40296320   \n",
       "2             3         800              1      3   120  41940340   \n",
       "3             2         858              1      2    64  41750000   \n",
       "4             3         797              1      3   110  41720060   \n",
       "...         ...         ...            ...    ...   ...       ...   \n",
       "5875          2         545              2      2    52  41601075   \n",
       "5876          1         633              1      1    41  40140090   \n",
       "5877          3         900              2      3   102  40155810   \n",
       "5878          3         990              1      2   136  41760035   \n",
       "5879          2         270              1      2    52  41100260   \n",
       "\n",
       "      condominio_fechado  elevador  piscina  portaria  salao_de_festas  \\\n",
       "0                      0         0        0         0                0   \n",
       "1                      0         0        1         0                1   \n",
       "2                      1         1        0         1                1   \n",
       "3                      1         0        1         0                0   \n",
       "4                      1         1        1         1                1   \n",
       "...                  ...       ...      ...       ...              ...   \n",
       "5875                   1         0        1         1                1   \n",
       "5876                   1         1        1         1                1   \n",
       "5877                   0         1        1         1                1   \n",
       "5878                   0         1        0         0                1   \n",
       "5879                   1         1        1         0                1   \n",
       "\n",
       "      academia  area_de_servico  \n",
       "0            0                0  \n",
       "1            1                0  \n",
       "2            1                1  \n",
       "3            0                0  \n",
       "4            1                0  \n",
       "...        ...              ...  \n",
       "5875         1                0  \n",
       "5876         1                1  \n",
       "5877         1                0  \n",
       "5878         0                0  \n",
       "5879         1                0  \n",
       "\n",
       "[5880 rows x 13 columns]"
      ]
     },
     "execution_count": 9,
     "metadata": {},
     "output_type": "execute_result"
    }
   ],
   "source": [
    "data_prep[SELECTED_FEATURES]"
   ]
  },
  {
   "cell_type": "markdown",
   "id": "ba4d08b8",
   "metadata": {},
   "source": [
    "## <div style=\"color:white;display:fill;border-radius:5px;background-color:#2E6B8E;letter-spacing:0.5px;overflow:hidden\"><p style=\"padding:15px;color:white;overflow:hidden;text-align: center;margin:0;font-size:120%\">Normalization</p></div>"
   ]
  },
  {
   "cell_type": "code",
   "execution_count": 10,
   "id": "99ba3506",
   "metadata": {},
   "outputs": [
    {
     "name": "stdout",
     "output_type": "stream",
     "text": [
      "Columns/Skew\n",
      " area_de_servico       2.282548\n",
      "size                  1.477421\n",
      "condominio_fechado    0.860762\n",
      "dtype: float64\n"
     ]
    }
   ],
   "source": [
    "log_columns = data_prep[SELECTED_FEATURES].skew().sort_values(ascending=False)\n",
    "log_columns = log_columns.loc[log_columns > 0.75]\n",
    "print('Columns/Skew\\n',log_columns)    "
   ]
  },
  {
   "cell_type": "code",
   "execution_count": 11,
   "id": "0cdaa0b8",
   "metadata": {},
   "outputs": [],
   "source": [
    "data_prep['price'] = np.log1p( data_prep['price'] )"
   ]
  },
  {
   "cell_type": "code",
   "execution_count": 12,
   "id": "0df6d9b7",
   "metadata": {},
   "outputs": [
    {
     "data": {
      "text/html": [
       "<div>\n",
       "<style scoped>\n",
       "    .dataframe tbody tr th:only-of-type {\n",
       "        vertical-align: middle;\n",
       "    }\n",
       "\n",
       "    .dataframe tbody tr th {\n",
       "        vertical-align: top;\n",
       "    }\n",
       "\n",
       "    .dataframe thead th {\n",
       "        text-align: right;\n",
       "    }\n",
       "</style>\n",
       "<table border=\"1\" class=\"dataframe\">\n",
       "  <thead>\n",
       "    <tr style=\"text-align: right;\">\n",
       "      <th></th>\n",
       "      <th>bathrooms</th>\n",
       "      <th>condominio</th>\n",
       "      <th>garage_spaces</th>\n",
       "      <th>price</th>\n",
       "      <th>rooms</th>\n",
       "      <th>size</th>\n",
       "      <th>zipcode</th>\n",
       "      <th>re_types</th>\n",
       "      <th>re_rent_full_price</th>\n",
       "      <th>condominio_fechado</th>\n",
       "      <th>...</th>\n",
       "      <th>area_murada.1</th>\n",
       "      <th>ar_condicionado</th>\n",
       "      <th>armarios_na_cozinha</th>\n",
       "      <th>armarios_no_quarto</th>\n",
       "      <th>churrasqueira</th>\n",
       "      <th>mobiliado</th>\n",
       "      <th>quarto_de_servico</th>\n",
       "      <th>varanda</th>\n",
       "      <th>area_de_servico</th>\n",
       "      <th>size_comodo</th>\n",
       "    </tr>\n",
       "  </thead>\n",
       "  <tbody>\n",
       "    <tr>\n",
       "      <th>0</th>\n",
       "      <td>1</td>\n",
       "      <td>270</td>\n",
       "      <td>1</td>\n",
       "      <td>11.849405</td>\n",
       "      <td>2</td>\n",
       "      <td>58</td>\n",
       "      <td>41150115</td>\n",
       "      <td>1</td>\n",
       "      <td>NaN</td>\n",
       "      <td>0</td>\n",
       "      <td>...</td>\n",
       "      <td>0</td>\n",
       "      <td>0</td>\n",
       "      <td>0</td>\n",
       "      <td>0</td>\n",
       "      <td>0</td>\n",
       "      <td>0</td>\n",
       "      <td>0</td>\n",
       "      <td>0</td>\n",
       "      <td>0</td>\n",
       "      <td>3</td>\n",
       "    </tr>\n",
       "    <tr>\n",
       "      <th>1</th>\n",
       "      <td>4</td>\n",
       "      <td>1080</td>\n",
       "      <td>2</td>\n",
       "      <td>13.287880</td>\n",
       "      <td>3</td>\n",
       "      <td>105</td>\n",
       "      <td>40296320</td>\n",
       "      <td>1</td>\n",
       "      <td>NaN</td>\n",
       "      <td>0</td>\n",
       "      <td>...</td>\n",
       "      <td>0</td>\n",
       "      <td>1</td>\n",
       "      <td>1</td>\n",
       "      <td>0</td>\n",
       "      <td>1</td>\n",
       "      <td>0</td>\n",
       "      <td>0</td>\n",
       "      <td>0</td>\n",
       "      <td>0</td>\n",
       "      <td>7</td>\n",
       "    </tr>\n",
       "    <tr>\n",
       "      <th>2</th>\n",
       "      <td>3</td>\n",
       "      <td>800</td>\n",
       "      <td>1</td>\n",
       "      <td>13.444448</td>\n",
       "      <td>3</td>\n",
       "      <td>120</td>\n",
       "      <td>41940340</td>\n",
       "      <td>1</td>\n",
       "      <td>NaN</td>\n",
       "      <td>1</td>\n",
       "      <td>...</td>\n",
       "      <td>0</td>\n",
       "      <td>1</td>\n",
       "      <td>1</td>\n",
       "      <td>1</td>\n",
       "      <td>0</td>\n",
       "      <td>0</td>\n",
       "      <td>1</td>\n",
       "      <td>0</td>\n",
       "      <td>1</td>\n",
       "      <td>6</td>\n",
       "    </tr>\n",
       "    <tr>\n",
       "      <th>3</th>\n",
       "      <td>2</td>\n",
       "      <td>858</td>\n",
       "      <td>1</td>\n",
       "      <td>12.948012</td>\n",
       "      <td>2</td>\n",
       "      <td>64</td>\n",
       "      <td>41750000</td>\n",
       "      <td>1</td>\n",
       "      <td>NaN</td>\n",
       "      <td>1</td>\n",
       "      <td>...</td>\n",
       "      <td>1</td>\n",
       "      <td>0</td>\n",
       "      <td>1</td>\n",
       "      <td>1</td>\n",
       "      <td>1</td>\n",
       "      <td>0</td>\n",
       "      <td>1</td>\n",
       "      <td>1</td>\n",
       "      <td>0</td>\n",
       "      <td>4</td>\n",
       "    </tr>\n",
       "    <tr>\n",
       "      <th>4</th>\n",
       "      <td>3</td>\n",
       "      <td>797</td>\n",
       "      <td>1</td>\n",
       "      <td>13.038984</td>\n",
       "      <td>3</td>\n",
       "      <td>110</td>\n",
       "      <td>41720060</td>\n",
       "      <td>1</td>\n",
       "      <td>NaN</td>\n",
       "      <td>1</td>\n",
       "      <td>...</td>\n",
       "      <td>0</td>\n",
       "      <td>0</td>\n",
       "      <td>1</td>\n",
       "      <td>0</td>\n",
       "      <td>0</td>\n",
       "      <td>0</td>\n",
       "      <td>0</td>\n",
       "      <td>0</td>\n",
       "      <td>0</td>\n",
       "      <td>6</td>\n",
       "    </tr>\n",
       "  </tbody>\n",
       "</table>\n",
       "<p>5 rows × 28 columns</p>\n",
       "</div>"
      ],
      "text/plain": [
       "   bathrooms  condominio  garage_spaces      price  rooms  size   zipcode  \\\n",
       "0          1         270              1  11.849405      2    58  41150115   \n",
       "1          4        1080              2  13.287880      3   105  40296320   \n",
       "2          3         800              1  13.444448      3   120  41940340   \n",
       "3          2         858              1  12.948012      2    64  41750000   \n",
       "4          3         797              1  13.038984      3   110  41720060   \n",
       "\n",
       "   re_types re_rent_full_price  condominio_fechado  ...  area_murada.1  \\\n",
       "0         1                NaN                   0  ...              0   \n",
       "1         1                NaN                   0  ...              0   \n",
       "2         1                NaN                   1  ...              0   \n",
       "3         1                NaN                   1  ...              1   \n",
       "4         1                NaN                   1  ...              0   \n",
       "\n",
       "   ar_condicionado  armarios_na_cozinha  armarios_no_quarto  churrasqueira  \\\n",
       "0                0                    0                   0              0   \n",
       "1                1                    1                   0              1   \n",
       "2                1                    1                   1              0   \n",
       "3                0                    1                   1              1   \n",
       "4                0                    1                   0              0   \n",
       "\n",
       "   mobiliado  quarto_de_servico  varanda  area_de_servico  size_comodo  \n",
       "0          0                  0        0                0            3  \n",
       "1          0                  0        0                0            7  \n",
       "2          0                  1        0                1            6  \n",
       "3          0                  1        1                0            4  \n",
       "4          0                  0        0                0            6  \n",
       "\n",
       "[5 rows x 28 columns]"
      ]
     },
     "execution_count": 12,
     "metadata": {},
     "output_type": "execute_result"
    }
   ],
   "source": [
    "data_prep.head()"
   ]
  },
  {
   "cell_type": "code",
   "execution_count": 13,
   "id": "44dbf858",
   "metadata": {},
   "outputs": [],
   "source": [
    "y = data_prep[TARGET]\n",
    "X = data_prep[SELECTED_FEATURES]"
   ]
  },
  {
   "cell_type": "code",
   "execution_count": 14,
   "id": "5584ead5",
   "metadata": {},
   "outputs": [
    {
     "data": {
      "text/plain": [
       "((4704, 13), (4704,), (1176, 13), (1176,))"
      ]
     },
     "execution_count": 14,
     "metadata": {},
     "output_type": "execute_result"
    }
   ],
   "source": [
    "seed=7\n",
    "X_train, X_val, y_train, y_val = train_test_split(X, y, test_size = 0.2, shuffle=True, random_state=seed)#, stratify=y\n",
    "X_train.shape, y_train.shape, X_val.shape, y_val.shape"
   ]
  },
  {
   "cell_type": "code",
   "execution_count": 15,
   "id": "bd3db343",
   "metadata": {},
   "outputs": [],
   "source": [
    "number_folds = 4\n",
    "Kfold = KFold(n_splits=number_folds, shuffle=True, random_state=seed)"
   ]
  },
  {
   "cell_type": "markdown",
   "id": "e81649a2",
   "metadata": {},
   "source": [
    "# Boruta"
   ]
  },
  {
   "cell_type": "code",
   "execution_count": 16,
   "id": "85a22375",
   "metadata": {},
   "outputs": [],
   "source": [
    "# # training and test dataset for Boruta\n",
    "# X_train_n = X_train.values\n",
    "# y_train_n = y_train.values.ravel()\n",
    "\n",
    "# # define RandomForestRegressor\n",
    "# rf = RandomForestRegressor( n_jobs=-1 )\n",
    "\n",
    "# # define Boruta\n",
    "# boruta = BorutaPy( rf, n_estimators='auto', verbose=2, random_state=42 ).fit( X_train_n, y_train_n )"
   ]
  },
  {
   "cell_type": "code",
   "execution_count": 17,
   "id": "a2b2f161",
   "metadata": {},
   "outputs": [],
   "source": [
    "# cols_selected = boruta.support_.tolist()\n",
    "\n",
    "# # best features\n",
    "# X_train_fs = X_train\n",
    "# cols_selected_boruta = X_train_fs.iloc[:, cols_selected].columns.to_list()\n",
    "\n",
    "# # not selected boruta\n",
    "# cols_not_selected_boruta = list( np.setdiff1d( X_train_fs.columns, cols_selected_boruta ) )\n",
    "# cols_not_selected_boruta\n",
    "\n",
    "# # selected boruta\n",
    "# cols_selected_boruta\n"
   ]
  },
  {
   "cell_type": "code",
   "execution_count": null,
   "id": "4e3e5e06",
   "metadata": {},
   "outputs": [],
   "source": []
  },
  {
   "cell_type": "code",
   "execution_count": null,
   "id": "d16c2c83",
   "metadata": {},
   "outputs": [],
   "source": []
  },
  {
   "cell_type": "code",
   "execution_count": null,
   "id": "83392cb1",
   "metadata": {},
   "outputs": [],
   "source": []
  }
 ],
 "metadata": {
  "kernelspec": {
   "display_name": "Python 3 (ipykernel)",
   "language": "python",
   "name": "python3"
  },
  "language_info": {
   "codemirror_mode": {
    "name": "ipython",
    "version": 3
   },
   "file_extension": ".py",
   "mimetype": "text/x-python",
   "name": "python",
   "nbconvert_exporter": "python",
   "pygments_lexer": "ipython3",
   "version": "3.8.17"
  }
 },
 "nbformat": 4,
 "nbformat_minor": 5
}
